{
 "cells": [
  {
   "cell_type": "code",
   "execution_count": 1,
   "metadata": {},
   "outputs": [],
   "source": [
    "%load_ext autoreload\n",
    "%autoreload 2"
   ]
  },
  {
   "cell_type": "code",
   "execution_count": 2,
   "metadata": {},
   "outputs": [],
   "source": [
    "import torch\n",
    "import numpy as np\n",
    "\n",
    "ttype = torch.cuda.DoubleTensor if torch.cuda.is_available() else torch.DoubleTensor\n",
    "torch.set_default_tensor_type(ttype)\n",
    "\n",
    "from lqg_env import LQG\n",
    "from util import simulate, seiler_state_space, StateSpace, train_model, eval_model\n",
    "from controllers import RNNController, OptimalController"
   ]
  },
  {
   "cell_type": "code",
   "execution_count": 3,
   "metadata": {},
   "outputs": [
    {
     "name": "stdout",
     "output_type": "stream",
     "text": [
      "optimal: 52195.19897313523\n"
     ]
    }
   ],
   "source": [
    "import matplotlib.pyplot as plt\n",
    "\n",
    "n_epochs = 150\n",
    "num_inits = 200\n",
    "n_steps = 100\n",
    "batch_size = 128\n",
    "rnn_layers = 3\n",
    "dim_hidden = 10\n",
    "learning_rate = 0.01\n",
    "\n",
    "device = torch.device(\"cuda\" if torch.cuda.is_available() else \"cpu\")\n",
    "\n",
    "ss, Q, R, = seiler_state_space()\n",
    "\n",
    "controller = RNNController(1, 1, dim_h=dim_hidden, layers=rnn_layers).to(device)\n",
    "env = LQG(ss, Q, R, batch_size=batch_size)\n",
    "env_x = LQG(ss, Q, R, batch_size=batch_size, observe_x=True)\n",
    "\n",
    "opt = torch.optim.Adam(controller.parameters(), lr=learning_rate)\n",
    "\n",
    "best = (np.inf, None)\n",
    "\n",
    "optimal_controller = OptimalController(ss, Q, R)\n",
    "loss = simulate(optimal_controller, env_x, n_steps)\n",
    "print(\"optimal:\", loss.detach().cpu().numpy().item())"
   ]
  },
  {
   "cell_type": "code",
   "execution_count": 26,
   "metadata": {},
   "outputs": [
    {
     "name": "stdout",
     "output_type": "stream",
     "text": [
      "i: 12.147936287853012\n",
      "i: 12.085002750858145\n",
      "i: 12.098255151675502\n",
      "i: 12.361476036478155\n",
      "i: 11.994642748667932\n",
      "i: 12.017809383328332\n",
      "i: 11.891365516277045\n",
      "i: 11.971245720769641\n",
      "i: 12.011292277276297\n",
      "i: 12.372666196106685\n"
     ]
    }
   ],
   "source": [
    "for i in range(1, 11):\n",
    "    controller.load_state_dict(torch.load(f'models/rnn_best_initial_{i}'))\n",
    "    loss = simulate(controller, env, n_steps)\n",
    "    print(\"i:\", np.log10(loss.detach().cpu().numpy().item()))"
   ]
  },
  {
   "cell_type": "code",
   "execution_count": null,
   "metadata": {},
   "outputs": [],
   "source": []
  }
 ],
 "metadata": {
  "kernelspec": {
   "display_name": "Python 3",
   "language": "python",
   "name": "python3"
  },
  "language_info": {
   "codemirror_mode": {
    "name": "ipython",
    "version": 3
   },
   "file_extension": ".py",
   "mimetype": "text/x-python",
   "name": "python",
   "nbconvert_exporter": "python",
   "pygments_lexer": "ipython3",
   "version": "3.8.2"
  }
 },
 "nbformat": 4,
 "nbformat_minor": 2
}
