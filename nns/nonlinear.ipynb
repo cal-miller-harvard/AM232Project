{
 "cells": [
  {
   "cell_type": "code",
   "execution_count": null,
   "metadata": {},
   "outputs": [],
   "source": [
    "%load_ext autoreload\n",
    "%autoreload 2"
   ]
  },
  {
   "cell_type": "code",
   "execution_count": 99,
   "metadata": {},
   "outputs": [],
   "source": [
    "import torch\n",
    "import numpy as np\n",
    "import matplotlib.pyplot as plt\n",
    "\n",
    "ttype = torch.cuda.DoubleTensor if torch.cuda.is_available() else torch.DoubleTensor\n",
    "torch.set_default_tensor_type(ttype)\n",
    "\n",
    "from nonlinear_env import Nonlinear\n",
    "from util import simulate, train_model, eval_model\n",
    "from controllers import LinearController"
   ]
  },
  {
   "cell_type": "code",
   "execution_count": 100,
   "metadata": {},
   "outputs": [],
   "source": [
    "def plot_stability(controller, env, N):\n",
    "    controller.reset()\n",
    "    obs = [env.reset()]\n",
    "\n",
    "    for _ in range(N):\n",
    "        u = controller(obs[-1])\n",
    "        obs += [env.step(u)[0]]\n",
    "    obs = torch.stack(obs).mean(dim=1).detach().cpu().numpy()\n",
    "    print(obs[-1])\n",
    "    plt.plot(np.arange(len(obs)), obs)"
   ]
  },
  {
   "cell_type": "code",
   "execution_count": 134,
   "metadata": {},
   "outputs": [
    {
     "name": "stdout",
     "output_type": "stream",
     "text": [
      "tensor(nan, grad_fn=<MeanBackward0>)\n",
      "[nan nan]\n"
     ]
    },
    {
     "data": {
      "image/png": "[encoded data removed]",
      "text/plain": [
       "<Figure size 432x288 with 1 Axes>"
      ]
     },
     "metadata": {
      "needs_background": "light"
     },
     "output_type": "display_data"
    }
   ],
   "source": [
    "batch_size = 512\n",
    "n_layers = 0\n",
    "dim_hidden = 2\n",
    "learning_rate = 1e-2\n",
    "\n",
    "# System Dynamics\n",
    "A = lambda x: torch.eye(2).view(1, 2, 2).repeat(batch_size, 1, 1)\n",
    "B = lambda x: torch.tensor([0., 1.]).view(1, 2, 1).repeat(batch_size, 1, 1)\n",
    "Z = lambda x: torch.stack([x[:, 1], x[:, 0] ** 2]).t()\n",
    "C1 = lambda x: torch.stack([x[:, 1], -x[:, 0], torch.zeros_like(x[:, 1]), -x[:, 1]]).view(2, 2, batch_size).permute(2, 0, 1)\n",
    "C2 = lambda x: torch.stack([-torch.ones_like(x[:, 0]), x[:, 0]]).view(1, 2, batch_size).permute(2, 0, 1)\n",
    "W = torch.eye(2) * 0.001\n",
    "\n",
    "device = torch.device(\"cuda\" if torch.cuda.is_available() else \"cpu\")\n",
    "\n",
    "controller = LinearController(2, 1, dim_h=dim_hidden, hidden=n_layers).to(device)\n",
    "env = Nonlinear(A, B, Z, C1, C2, W=W, batch_size=batch_size)\n",
    "controller.init_weights()\n",
    "\n",
    "# controller.load_state_dict(starting)\n",
    "n_steps = 100\n",
    "\n",
    "loss = simulate(controller, env, n_steps)\n",
    "print(loss.mean())\n",
    "\n",
    "plot_stability(controller, env, 100)\n",
    "eval_envs = [Nonlinear(A, B, Z, C1, C2, W=k, batch_size=batch_size) for k in [None, torch.eye(2) * 0.0005, torch.eye(2) * 0.001]]"
   ]
  },
  {
   "cell_type": "code",
   "execution_count": null,
   "metadata": {},
   "outputs": [],
   "source": [
    "import copy\n",
    "import time\n",
    "\n",
    "n_epochs = 300\n",
    "n_steps = 100\n",
    "\n",
    "controllers = []\n",
    "\n",
    "errs = np.linspace(0, 0.1, 11)\n",
    "\n",
    "for i in errs:\n",
    "    while True:\n",
    "        controller.init_weights()\n",
    "        loss = simulate(controller, env, n_steps).mean()\n",
    "        if not np.isnan(loss.detach().cpu().numpy().item()):\n",
    "            print(\"Starting\", i)\n",
    "\n",
    "            start = time.time()\n",
    "            losses = train_model(controller, env, n_epochs, n_steps, 1e-2, noise=i)\n",
    "            end = time.time()\n",
    "            print(\"train\", i, end - start)\n",
    "\n",
    "            loss = simulate(controller, env, n_steps).mean()\n",
    "            if not np.isnan(loss.detach().cpu().numpy().item()):\n",
    "                controllers.append(copy.deepcopy(controller.state_dict()))\n",
    "                break"
   ]
  },
  {
   "cell_type": "code",
   "execution_count": 136,
   "metadata": {},
   "outputs": [],
   "source": [
    "n_epochs = 300\n",
    "n_steps = 100\n",
    "\n",
    "errs = np.linspace(0, 0.1, 3)\n",
    "\n",
    "vals_05 = []\n",
    "env = eval_envs[1]\n",
    "\n",
    "for state in controllers:\n",
    "    controller.load_state_dict(state)\n",
    "    i_vals = []\n",
    "    for j in errs:\n",
    "        start = time.time()\n",
    "        eval_loss = eval_model(controller, env, n_epochs, n_steps, noise=j)\n",
    "        end = time.time()\n",
    "        mean_loss = np.mean(eval_loss)\n",
    "        i_vals.append(mean_loss)\n",
    "    vals_05.append(i_vals)"
   ]
  },
  {
   "cell_type": "code",
   "execution_count": 141,
   "metadata": {},
   "outputs": [
    {
     "data": {
      "image/png": "[encoded data removed]",
      "text/plain": [
       "<Figure size 432x288 with 2 Axes>"
      ]
     },
     "metadata": {
      "needs_background": "light"
     },
     "output_type": "display_data"
    }
   ],
   "source": [
    "import seaborn as sns\n",
    "import matplotlib.pyplot as plt\n",
    "from matplotlib import rc\n",
    "rc('text', usetex=True)\n",
    "\n",
    "sns.heatmap(vals_05[::-1])\n",
    "plt.gca().set_xticklabels(np.linspace(0, 0.1, 3))\n",
    "plt.gca().set_yticklabels(errs[::-1])\n",
    "plt.xlabel('Eval Input Perturbation $\\Delta$')\n",
    "plt.ylabel('Train Input Perturbation $\\Delta$')\n",
    "plt.title('Evaluation Cost')\n",
    "plt.savefig('eval_cost_heatmap_05')\n",
    "plt.show()\n",
    "plt.close()"
   ]
  },
  {
   "cell_type": "code",
   "execution_count": null,
   "metadata": {},
   "outputs": [],
   "source": [
    "import time\n",
    "\n",
    "n_epochs = 300\n",
    "n_steps = 100\n",
    "\n",
    "errs = np.linspace(0, 0.1, 11)\n",
    "\n",
    "vals = []\n",
    "\n",
    "for state in controllers:\n",
    "    controller.load_state_dict(state)\n",
    "    i_vals = []\n",
    "    for j in errs:\n",
    "        start = time.time()\n",
    "        eval_loss = eval_model(controller, env, n_epochs, n_steps, noise=j)\n",
    "        end = time.time()\n",
    "        mean_loss = np.mean(eval_loss)\n",
    "        i_vals.append(mean_loss)\n",
    "    vals.append(i_vals)"
   ]
  },
  {
   "cell_type": "code",
   "execution_count": 153,
   "metadata": {},
   "outputs": [
    {
     "data": {
      "image/png": "[encoded data removed]",
      "text/plain": [
       "<Figure size 432x288 with 2 Axes>"
      ]
     },
     "metadata": {
      "needs_background": "light"
     },
     "output_type": "display_data"
    },
    {
     "data": {
      "text/plain": [
       "<function matplotlib.pyplot.close(fig=None)>"
      ]
     },
     "execution_count": 153,
     "metadata": {},
     "output_type": "execute_result"
    }
   ],
   "source": [
    "import seaborn as sns\n",
    "import matplotlib.pyplot as plt\n",
    "from matplotlib import rc\n",
    "rc('text', usetex=True)\n",
    "\n",
    "errs = np.linspace(0, 0.1, 11)\n",
    "sns.heatmap(vals[::-1], cmap=sns.cm.rocket_r)\n",
    "plt.gca().set_xticklabels(errs)\n",
    "plt.gca().set_yticklabels(errs[::-1])\n",
    "plt.xlabel('Eval Input Perturbation ($\\Delta$)')\n",
    "plt.ylabel('Train Input Perturbation ($\\Delta$)')\n",
    "plt.title('Evaluation Cost')\n",
    "plt.savefig('eval_cost_heatmap')\n",
    "plt.show()\n",
    "plt.close"
   ]
  },
  {
   "cell_type": "code",
   "execution_count": 53,
   "metadata": {},
   "outputs": [],
   "source": [
    "import time\n",
    "\n",
    "n_epochs = 300\n",
    "n_steps = 100\n",
    "\n",
    "errs = [0.11, 0.12, 0.13]\n",
    "\n",
    "vals2 = []\n",
    "\n",
    "for state in controllers:\n",
    "    controller.load_state_dict(state)\n",
    "    i_vals = []\n",
    "    for j in errs:\n",
    "        start = time.time()\n",
    "        eval_loss = eval_model(controller, env, n_epochs, n_steps, noise=j)\n",
    "        end = time.time()\n",
    "        mean_loss = np.mean(eval_loss)\n",
    "        i_vals.append(mean_loss)\n",
    "    vals2.append(i_vals)"
   ]
  },
  {
   "cell_type": "code",
   "execution_count": null,
   "metadata": {},
   "outputs": [],
   "source": [
    "controller.load_state_dict(starting)\n",
    "controller.reset()\n",
    "controller.state_dict()"
   ]
  },
  {
   "cell_type": "code",
   "execution_count": null,
   "metadata": {},
   "outputs": [],
   "source": [
    "plt.plot(np.arange(len(losses)), losses)\n",
    "plt.xlabel('epochs')\n",
    "plt.ylabel('mean_loss')\n",
    "plt.show()"
   ]
  },
  {
   "cell_type": "code",
   "execution_count": null,
   "metadata": {},
   "outputs": [],
   "source": [
    "np.mean(eval_model(controller, env, n_epochs, n_steps))"
   ]
  },
  {
   "cell_type": "code",
   "execution_count": null,
   "metadata": {},
   "outputs": [],
   "source": [
    "losses = eval_model(controller, env, n_epochs, n_steps)"
   ]
  },
  {
   "cell_type": "code",
   "execution_count": null,
   "metadata": {},
   "outputs": [],
   "source": [
    "np.mean(losses)"
   ]
  },
  {
   "cell_type": "code",
   "execution_count": null,
   "metadata": {},
   "outputs": [],
   "source": [
    "n_epochs = 200\n",
    "n_steps = 100\n",
    "\n",
    "losses = train_model(controller, env, opt, n_epochs, n_steps, v=False)\n",
    "plt.plot(np.arange(len(losses)), losses)\n",
    "plt.xlabel('epochs')\n",
    "plt.ylabel('mean_loss')\n",
    "plt.show()"
   ]
  },
  {
   "cell_type": "code",
   "execution_count": null,
   "metadata": {},
   "outputs": [],
   "source": [
    "sim_loss = simulate(controller, env, 100)[:, 0].detach().cpu().numpy()\n",
    "plt.plot(np.arange(len(sim_loss)), sim_loss)\n",
    "plt.xlabel('t')\n",
    "plt.ylabel('loss')\n",
    "plt.show()\n",
    "\n",
    "plot_stability(controller, env, 100)\n",
    "plt.xlabel('t')\n",
    "plt.ylabel('x')\n",
    "plt.show()\n",
    "print(list(controller.parameters()))"
   ]
  },
  {
   "cell_type": "code",
   "execution_count": null,
   "metadata": {},
   "outputs": [],
   "source": []
  }
 ],
 "metadata": {
  "kernelspec": {
   "display_name": "Python 3",
   "language": "python",
   "name": "python3"
  },
  "language_info": {
   "codemirror_mode": {
    "name": "ipython",
    "version": 3
   },
   "file_extension": ".py",
   "mimetype": "text/x-python",
   "name": "python",
   "nbconvert_exporter": "python",
   "pygments_lexer": "ipython3",
   "version": "3.8.2"
  }
 },
 "nbformat": 4,
 "nbformat_minor": 2
}
